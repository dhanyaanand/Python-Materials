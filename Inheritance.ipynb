{
 "cells": [
  {
   "cell_type": "markdown",
   "metadata": {},
   "source": [
    "# Simple example...."
   ]
  },
  {
   "cell_type": "code",
   "execution_count": 1,
   "metadata": {},
   "outputs": [],
   "source": [
    "class Human:\n",
    "  \n",
    "    def __init__(self, fname, lname):\n",
    "        \n",
    "        self.firstname = fname\n",
    "        self.lastname = lname\n",
    "    \n",
    "    def printname(self):\n",
    "        \n",
    "        print(self.firstname, self.lastname)\n",
    "\n"
   ]
  },
  {
   "cell_type": "code",
   "execution_count": 2,
   "metadata": {},
   "outputs": [
    {
     "name": "stdout",
     "output_type": "stream",
     "text": [
      "Ravi Vallathol\n"
     ]
    }
   ],
   "source": [
    "\n",
    "h = Human(\"Ravi\", \"Vallathol\")\n",
    "\n",
    "h.printname() "
   ]
  },
  {
   "cell_type": "markdown",
   "metadata": {},
   "source": [
    "# Child Class"
   ]
  },
  {
   "cell_type": "code",
   "execution_count": 8,
   "metadata": {},
   "outputs": [],
   "source": [
    " class Student(Human):     #inheritance\n",
    "    pass"
   ]
  },
  {
   "cell_type": "code",
   "execution_count": 10,
   "metadata": {},
   "outputs": [
    {
     "name": "stdout",
     "output_type": "stream",
     "text": [
      "KKP KLP\n"
     ]
    }
   ],
   "source": [
    "s=Student(\"KKP\",\"KLP\")\n",
    "\n",
    "s.printname() "
   ]
  },
  {
   "cell_type": "markdown",
   "metadata": {},
   "source": [
    "# What do u mean by Overiding???"
   ]
  },
  {
   "cell_type": "markdown",
   "metadata": {},
   "source": [
    "# parent class"
   ]
  },
  {
   "cell_type": "code",
   "execution_count": 67,
   "metadata": {},
   "outputs": [],
   "source": [
    "\n",
    "\n",
    "class Animal:\n",
    "    \n",
    "    def __init__(self):\n",
    "        print(\"Animal is Beautiful\")\n",
    "\n",
    "    def whoisThis(self):\n",
    "        print(\"Animal\")\n",
    "\n",
    "    def run(self):\n",
    "        print(\"run faster\")\n",
    "\n"
   ]
  },
  {
   "cell_type": "markdown",
   "metadata": {},
   "source": [
    "# child class"
   ]
  },
  {
   "cell_type": "code",
   "execution_count": 68,
   "metadata": {},
   "outputs": [],
   "source": [
    "\n",
    "class Tiger(Animal):\n",
    "\n",
    "    def __init__(self):\n",
    "        \n",
    "        print(\"Tiger is ready\")\n",
    "\n",
    "    def whoisThis(self):\n",
    "        \n",
    "        print(\"Tiger\")\n",
    "\n",
    "    def walk(self):\n",
    "        \n",
    "        print(\"walk faster\")\n",
    "\n"
   ]
  },
  {
   "cell_type": "markdown",
   "metadata": {},
   "source": [
    "Object Creation"
   ]
  },
  {
   "cell_type": "code",
   "execution_count": 69,
   "metadata": {},
   "outputs": [
    {
     "name": "stdout",
     "output_type": "stream",
     "text": [
      "Tiger is ready\n"
     ]
    }
   ],
   "source": [
    "T=Tiger()"
   ]
  },
  {
   "cell_type": "code",
   "execution_count": 72,
   "metadata": {},
   "outputs": [
    {
     "name": "stdout",
     "output_type": "stream",
     "text": [
      "Tiger\n"
     ]
    }
   ],
   "source": [
    "T.whoisThis()\n"
   ]
  },
  {
   "cell_type": "code",
   "execution_count": 76,
   "metadata": {},
   "outputs": [
    {
     "name": "stdout",
     "output_type": "stream",
     "text": [
      "run faster\n"
     ]
    }
   ],
   "source": [
    "T.run()"
   ]
  },
  {
   "cell_type": "code",
   "execution_count": 74,
   "metadata": {},
   "outputs": [
    {
     "name": "stdout",
     "output_type": "stream",
     "text": [
      "walk faster\n"
     ]
    }
   ],
   "source": [
    "T.walk()"
   ]
  },
  {
   "cell_type": "markdown",
   "metadata": {},
   "source": [
    "# Lets change..the code"
   ]
  },
  {
   "cell_type": "code",
   "execution_count": 81,
   "metadata": {},
   "outputs": [],
   "source": [
    "class Tiger(Animal):\n",
    "\n",
    "    def __init__(self):\n",
    "        \n",
    "        super().__init__()\n",
    "        \n",
    "        print(\"Tiger is ready\")\n",
    "\n",
    "    def whoisThis(self):\n",
    "        super().whoisThis()\n",
    "        break\n",
    "        print(\"Tiger\")\n",
    "\n",
    "    def walk(self):\n",
    "        \n",
    "        print(\"walk faster\")"
   ]
  },
  {
   "cell_type": "code",
   "execution_count": 84,
   "metadata": {},
   "outputs": [
    {
     "name": "stdout",
     "output_type": "stream",
     "text": [
      "Animal is Beautiful\n",
      "Tiger is ready\n",
      "Animal\n",
      "Tiger\n"
     ]
    }
   ],
   "source": [
    "T1=Tiger()\n",
    "T1.whoisThis()"
   ]
  }
 ],
 "metadata": {
  "kernelspec": {
   "display_name": "Python 3",
   "language": "python",
   "name": "python3"
  },
  "language_info": {
   "codemirror_mode": {
    "name": "ipython",
    "version": 3
   },
   "file_extension": ".py",
   "mimetype": "text/x-python",
   "name": "python",
   "nbconvert_exporter": "python",
   "pygments_lexer": "ipython3",
   "version": "3.8.5"
  }
 },
 "nbformat": 4,
 "nbformat_minor": 2
}
