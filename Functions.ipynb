{
 "cells": [
  {
   "cell_type": "markdown",
   "metadata": {},
   "source": [
    "# User Defined Functions"
   ]
  },
  {
   "cell_type": "markdown",
   "metadata": {},
   "source": [
    "Functions will be one of our main building blocks when we construct larger and larger amount of code to solve problems.\n",
    "\n",
    "A function groups a set of statements together to run the statements more than once. It allows us to specify parameters that can serve as inputs to the functions.\n",
    "\n",
    "Functions allow us to reuse the code instead of writing the code again and again. \n",
    "It is one of the most basic levels of reusing code in Python, and it will also allow us to start thinking of program design.\n"
   ]
  },
  {
   "cell_type": "markdown",
   "metadata": {},
   "source": [
    "# Creating our own functions"
   ]
  },
  {
   "cell_type": "markdown",
   "metadata": {},
   "source": [
    "# def Statements\n",
    "\n",
    "Now, let us learn how to build a function and what is the syntax in Python.\n",
    "\n",
    "The syntax for def statements will be in the following form:\n"
   ]
  },
  {
   "cell_type": "code",
   "execution_count": 1,
   "metadata": {},
   "outputs": [],
   "source": [
    "def say_hello():\n",
    "    print('Good Morning, This is python classroom')"
   ]
  },
  {
   "cell_type": "code",
   "execution_count": 2,
   "metadata": {},
   "outputs": [
    {
     "name": "stdout",
     "output_type": "stream",
     "text": [
      "Good Morning, This is python classroom\n"
     ]
    }
   ],
   "source": [
    "say_hello()"
   ]
  },
  {
   "cell_type": "code",
   "execution_count": 7,
   "metadata": {},
   "outputs": [],
   "source": [
    "def average(n):\n",
    "    sum=0\n",
    "    for i in range(n):\n",
    "        i=int(input(\"enter the number\"))\n",
    "        sum=sum+i        \n",
    "    print(\"average is {}\".format(sum/n))      "
   ]
  },
  {
   "cell_type": "code",
   "execution_count": 8,
   "metadata": {},
   "outputs": [
    {
     "name": "stdout",
     "output_type": "stream",
     "text": [
      "enter count of numbers6\n",
      "enter the number45\n",
      "enter the number67\n",
      "enter the number45\n",
      "enter the number23\n",
      "enter the number78\n",
      "enter the number90\n",
      "average is 69.6\n"
     ]
    }
   ],
   "source": [
    "x=int(input(\"enter count of numbers\"))\n",
    "average(x)"
   ]
  },
  {
   "cell_type": "code",
   "execution_count": 6,
   "metadata": {},
   "outputs": [],
   "source": [
    "def mechanical():\n",
    "    sum=0\n",
    "    limit=int(input(\"enter the limit\"))\n",
    "    for i in range(limit):\n",
    "        i=int(input(\"enter the number\"))\n",
    "        sum=sum+i\n",
    "    print(\"average is {}\".format(sum/limit))\n",
    "        "
   ]
  },
  {
   "cell_type": "code",
   "execution_count": 3,
   "metadata": {},
   "outputs": [
    {
     "name": "stdout",
     "output_type": "stream",
     "text": [
      "Enter the principle500\n",
      "Enter the rate of interest2\n",
      "Enter the duration2\n",
      "20.0\n"
     ]
    }
   ],
   "source": [
    "p=int(input(\"Enter the principle\"))\n",
    "r=int(input(\"Enter the rate of interest\"))\n",
    "t=int(input(\"Enter the duration\"))\n",
    "i1=interest(p,r,t)\n",
    "print(i1)"
   ]
  },
  {
   "cell_type": "code",
   "execution_count": 1,
   "metadata": {},
   "outputs": [],
   "source": [
    "def interest(x,y,z):\n",
    "    i=(x*y*z)/100\n",
    "    return i"
   ]
  },
  {
   "cell_type": "code",
   "execution_count": null,
   "metadata": {},
   "outputs": [],
   "source": [
    "a=int(input(\"enter the coeffieicent of x**2\"))\n",
    "b=int(input(\"enter the coeffieicent of x\"))\n",
    "c=int(input(\"enter the constant\")\n",
    "quad(a,b,c)"
   ]
  },
  {
   "cell_type": "code",
   "execution_count": 4,
   "metadata": {},
   "outputs": [],
   "source": [
    "def quad(a,b,c):\n",
    "    d=(b*b)-(4*a*c)\n",
    "    if(d>0):\n",
    "        print(\"Real and distinct roots\")\n",
    "    elif(d<0):\n",
    "        print(\"imaginary and distinct roots\")\n",
    "    else:\n",
    "        print(\"equal roots\")\n",
    "    "
   ]
  },
  {
   "cell_type": "code",
   "execution_count": 8,
   "metadata": {},
   "outputs": [],
   "source": [
    "def quad():\n",
    "    a = int(input(\"enter the coefficient of x**2: \"))\n",
    "    b = int(input(\"enter the coefficient of x: \"))\n",
    "    c = int(input(\"enter the constant: \"))\n",
    "    d = (b * b) - (4 * a * c)\n",
    "    return d\n"
   ]
  },
  {
   "cell_type": "code",
   "execution_count": 13,
   "metadata": {},
   "outputs": [
    {
     "name": "stdout",
     "output_type": "stream",
     "text": [
      "enter the coefficient of x**2: 1\n",
      "enter the coefficient of x: 7\n",
      "enter the constant: 12\n",
      "Real and distinct roots\n"
     ]
    }
   ],
   "source": [
    "s=quad()\n",
    "if s > 0:\n",
    "    print(\"Real and distinct roots\")\n",
    "elif s < 0:\n",
    "    print(\"Imaginary and distinct roots\")\n",
    "else:\n",
    "    print(\"Equal roots\")"
   ]
  },
  {
   "cell_type": "code",
   "execution_count": 7,
   "metadata": {},
   "outputs": [
    {
     "name": "stdout",
     "output_type": "stream",
     "text": [
      "enter the limit3\n",
      "enter the number45\n",
      "enter the number78\n",
      "enter the number90\n",
      "average is 71.0\n"
     ]
    }
   ],
   "source": [
    "mechanical()"
   ]
  },
  {
   "cell_type": "code",
   "execution_count": 4,
   "metadata": {},
   "outputs": [
    {
     "name": "stdout",
     "output_type": "stream",
     "text": [
      "enter the number23\n",
      "enter the number56\n",
      "enter the number78\n",
      "enter the number21\n",
      "enter the number24\n",
      "average is 40.4\n"
     ]
    }
   ],
   "source": [
    "average()"
   ]
  },
  {
   "cell_type": "code",
   "execution_count": null,
   "metadata": {},
   "outputs": [],
   "source": [
    "def  demo_function():\n",
    "    print(\"This is an example \")\n",
    "demo_function()"
   ]
  },
  {
   "cell_type": "code",
   "execution_count": null,
   "metadata": {},
   "outputs": [],
   "source": [
    "def addition(n,m):\n",
    "    f=n+m\n",
    "    return f\n",
    "    \n",
    "\n"
   ]
  },
  {
   "cell_type": "code",
   "execution_count": null,
   "metadata": {},
   "outputs": [],
   "source": [
    "a=addition(5,9)\n",
    "print(a)"
   ]
  },
  {
   "cell_type": "code",
   "execution_count": null,
   "metadata": {},
   "outputs": [],
   "source": [
    "def even( x ): \n",
    "    if (x % 2 == 0): \n",
    "        print(\"number is even\")\n",
    "    else: \n",
    "        print(\"number is odd\")\n",
    "  \n",
    "\n",
    "a=int(input(\"enter the number\"))\n",
    "even(a) \n"
   ]
  },
  {
   "cell_type": "code",
   "execution_count": null,
   "metadata": {},
   "outputs": [],
   "source": [
    "def mail_id(name):\n",
    "  print(name + \"@icfoss.in\")\n",
    "\n",
    "mail_id(\"seema\")\n",
    "mail_id(\"arnol\")\n",
    "mail_id(\"sandhini\") "
   ]
  },
  {
   "cell_type": "code",
   "execution_count": null,
   "metadata": {},
   "outputs": [],
   "source": [
    "a=[]\n",
    "def add_list(x):\n",
    "    a.append(x)\n",
    "    print(a)\n",
    "\n",
    "k=input(\"enter a string\")\n",
    "add_list(k)\n"
   ]
  },
  {
   "cell_type": "code",
   "execution_count": null,
   "metadata": {},
   "outputs": [],
   "source": [
    "a"
   ]
  },
  {
   "cell_type": "markdown",
   "metadata": {},
   "source": [
    "# Default Parameter Value"
   ]
  },
  {
   "cell_type": "code",
   "execution_count": null,
   "metadata": {},
   "outputs": [],
   "source": [
    "def my_district(district  = \"Palakkad\"):\n",
    "  print(\"I am from \" + district)\n",
    "\n",
    "my_district(\"Kozhikkod\")\n",
    "my_district(\"Thiruvananthapuram\")\n",
    "my_district()\n",
    "my_district(\"Kollam\") "
   ]
  },
  {
   "cell_type": "code",
   "execution_count": null,
   "metadata": {},
   "outputs": [],
   "source": [
    "def myFun(x, y = 100):  \n",
    "    print(\"x: \", x)  \n",
    "    print(\"y: \", y)  \n",
    "    \n",
    "\n",
    "myFun(10)  "
   ]
  },
  {
   "cell_type": "markdown",
   "metadata": {},
   "source": [
    "# Arbitrary Arguments, *args"
   ]
  },
  {
   "cell_type": "markdown",
   "metadata": {},
   "source": [
    "If you do not know how many arguments that will be passed into your function, add a * before the parameter name in the function definition.\n",
    "\n",
    "This way the function will receive a tuple of arguments, and can access the items accordingly:"
   ]
  },
  {
   "cell_type": "code",
   "execution_count": 9,
   "metadata": {},
   "outputs": [
    {
     "name": "stdout",
     "output_type": "stream",
     "text": [
      "My favourite fruit is banana\n",
      "My favourite fruit is orange\n",
      "My favourite fruit is apple\n",
      "My favourite fruit is grapes\n"
     ]
    }
   ],
   "source": [
    "def fav_fruit(*fruit):\n",
    "    for i in fruit:\n",
    "      print(\"My favourite fruit is \" + i)\n",
    "\n",
    "fav_fruit(\"banana\", \"orange\", \"apple\", \"grapes\") "
   ]
  },
  {
   "cell_type": "code",
   "execution_count": 8,
   "metadata": {},
   "outputs": [
    {
     "name": "stdout",
     "output_type": "stream",
     "text": [
      "Result is: \n",
      "Hello\n",
      "Welcome\n",
      "to\n",
      "ICFOSS\n"
     ]
    }
   ],
   "source": [
    "def myFun1(*argv):   \n",
    "    for arg in argv:   \n",
    "        print (arg)  \n",
    "  \n",
    " \n",
    "    \n",
    "\n",
    "print(\"Result is: \") \n",
    "myFun1('Hello', 'Welcome', 'to', 'ICFOSS')  \n",
    "  \n",
    "  "
   ]
  },
  {
   "cell_type": "markdown",
   "metadata": {},
   "source": [
    "# Arbitrary Keyword Arguments, **kwargs"
   ]
  },
  {
   "cell_type": "markdown",
   "metadata": {},
   "source": [
    "If you do not know how many keyword arguments that will be passed into your function, add two asterisk: ** before the parameter name in the function definition.\n",
    "\n",
    "This way the function will receive a dictionary of arguments, and can access the items accordingly: Arbitrary Kword Arguments are often shortened to **kwargs in Python documentations."
   ]
  },
  {
   "cell_type": "code",
   "execution_count": null,
   "metadata": {},
   "outputs": [],
   "source": [
    "def myFun2(**kwargs):   \n",
    "    for key, value in kwargs.items():  \n",
    "        print (\"% s == % s\" %(key, value)) \n",
    "\n",
    "myFun2(first ='icfoss', mid ='trivandrum', last ='kerala') "
   ]
  },
  {
   "cell_type": "code",
   "execution_count": null,
   "metadata": {},
   "outputs": [],
   "source": [
    "def fav_fruit(fruit1, fruit2, fruit3):\n",
    "  print(\"My fav fruit is \" + fruit2)\n",
    "\n",
    "fav_fruit(fruit1 = \"apple\", fruit2 = \"mango\", fruit3 = \"orange\") "
   ]
  },
  {
   "cell_type": "code",
   "execution_count": null,
   "metadata": {},
   "outputs": [],
   "source": [
    "def Sweet_fruit(**fruit):\n",
    "  print(\"The sweetest fruit is \" + fruit[\"f1\"])\n",
    "\n",
    "Sweet_fruit(f1 = \"grapes\", f2 = \"pineapple\", f3=\"mango\") "
   ]
  },
  {
   "cell_type": "markdown",
   "metadata": {},
   "source": [
    "# Passing a List as an Argument\n",
    "You can send any data types of argument to a function (string, number, list, dictionary etc.), and it will be treated as the same data type inside the function.\n",
    "\n",
    "E.g. if you send a List as an argument, it will still be a List when it reaches the function:"
   ]
  },
  {
   "cell_type": "code",
   "execution_count": null,
   "metadata": {},
   "outputs": [],
   "source": [
    "def my_friends(frnds):\n",
    "    for x in frnds:\n",
    "        print(x)\n",
    "\n",
    "frndlist = [\"ammu\", \"anu\", \"unni\"]\n",
    "\n",
    "my_friends(frndlist)"
   ]
  },
  {
   "cell_type": "code",
   "execution_count": null,
   "metadata": {},
   "outputs": [],
   "source": [
    "def fun_args(fruit):\n",
    "    for i in range(0,len(fruit)):\n",
    "          print(\"My favourite fruit is \"+ fruit[i])\n",
    "\n",
    "fruits=[\"apple\",\"Mango\",\"Kiwi\"]\n",
    "\n",
    "fun_args(fruits)\n"
   ]
  },
  {
   "cell_type": "markdown",
   "metadata": {},
   "source": [
    "# Recursion"
   ]
  },
  {
   "cell_type": "code",
   "execution_count": null,
   "metadata": {},
   "outputs": [],
   "source": [
    "def factorial(x):\n",
    "    \n",
    "    if x== 0 :\n",
    "        return 1\n",
    "    elif x == 1:\n",
    "        return 1\n",
    "    else:\n",
    "        return (x * factorial(x-1))\n",
    "\n",
    "\n",
    "\n",
    "print(\"The factorial is\", factorial(5))"
   ]
  },
  {
   "cell_type": "code",
   "execution_count": null,
   "metadata": {},
   "outputs": [],
   "source": [
    "def addition(k):\n",
    "    if k==0:\n",
    "        return 1\n",
    "    elif k < 0:\n",
    "        return -k\n",
    "    else:\n",
    "        \n",
    "        result = k + addition(k - 1)\n",
    "        return result\n",
    " \n",
    "  \n",
    "\n",
    "print(\"\\n\\nRecursion  Results is\")\n",
    "addition(5)"
   ]
  },
  {
   "cell_type": "markdown",
   "metadata": {},
   "source": [
    "# Lambda Function"
   ]
  },
  {
   "cell_type": "markdown",
   "metadata": {},
   "source": [
    "- A lambda function is a small anonymous function.\n",
    "\n",
    "- A lambda function can take any number of arguments, but can only have one expression."
   ]
  },
  {
   "cell_type": "markdown",
   "metadata": {},
   "source": [
    " lambda arguments : expression "
   ]
  },
  {
   "cell_type": "code",
   "execution_count": 1,
   "metadata": {},
   "outputs": [
    {
     "name": "stdout",
     "output_type": "stream",
     "text": [
      "13\n"
     ]
    }
   ],
   "source": [
    "x = lambda a, b, c : a + b + c\n",
    "print(x(5, 6, 2)) "
   ]
  },
  {
   "cell_type": "code",
   "execution_count": 2,
   "metadata": {},
   "outputs": [
    {
     "name": "stdout",
     "output_type": "stream",
     "text": [
      "30\n"
     ]
    }
   ],
   "source": [
    "x = lambda a, b : a * b\n",
    "print(x(5, 6)) "
   ]
  },
  {
   "cell_type": "markdown",
   "metadata": {},
   "source": [
    "# Lambda inside another Function"
   ]
  },
  {
   "cell_type": "code",
   "execution_count": 4,
   "metadata": {},
   "outputs": [
    {
     "name": "stdout",
     "output_type": "stream",
     "text": [
      "22\n"
     ]
    }
   ],
   "source": [
    "def myfunc(n):\n",
    "  return lambda a : a * n\n",
    "\n",
    "\n",
    "m = myfunc(2)\n",
    "\n",
    "print(m(11))"
   ]
  },
  {
   "cell_type": "code",
   "execution_count": null,
   "metadata": {},
   "outputs": [],
   "source": [
    "m=lambda a:a*n\n",
    "m(9)"
   ]
  },
  {
   "cell_type": "code",
   "execution_count": null,
   "metadata": {},
   "outputs": [],
   "source": [
    "def myfunc(n):\n",
    "  return lambda a : a * n\n",
    "\n",
    "mydoubler = myfunc(2)\n",
    "mytripler = myfunc(3)\n",
    "\n",
    "print(mydoubler(11))\n",
    "print(mytripler(11))"
   ]
  },
  {
   "cell_type": "markdown",
   "metadata": {},
   "source": [
    "# The 'pass' Statement\n",
    "function definitions cannot be empty, but if you for some reason have a function definition with no content, put in the pass statement to avoid getting an error."
   ]
  },
  {
   "cell_type": "code",
   "execution_count": null,
   "metadata": {},
   "outputs": [],
   "source": [
    "def myfun():\n",
    "  pass"
   ]
  },
  {
   "cell_type": "code",
   "execution_count": null,
   "metadata": {},
   "outputs": [],
   "source": []
  }
 ],
 "metadata": {
  "kernelspec": {
   "display_name": "Python 3",
   "language": "python",
   "name": "python3"
  },
  "language_info": {
   "codemirror_mode": {
    "name": "ipython",
    "version": 3
   },
   "file_extension": ".py",
   "mimetype": "text/x-python",
   "name": "python",
   "nbconvert_exporter": "python",
   "pygments_lexer": "ipython3",
   "version": "3.8.5"
  }
 },
 "nbformat": 4,
 "nbformat_minor": 2
}
