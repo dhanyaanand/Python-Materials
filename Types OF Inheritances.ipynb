{
 "cells": [
  {
   "cell_type": "markdown",
   "metadata": {},
   "source": [
    "# Multiple Inheritance"
   ]
  },
  {
   "cell_type": "code",
   "execution_count": 5,
   "metadata": {},
   "outputs": [],
   "source": [
    "class Base1(object): \n",
    "    \n",
    "    def __init__(self): \n",
    "        \n",
    "        self.str1 = \"ICFOSS\"\n",
    "        \n",
    "        print(\"Base1\") \n",
    "  \n",
    "class Base2(object): \n",
    "    \n",
    "    def __init__(self): \n",
    "        \n",
    "        self.str2 = \"Information\"      \n",
    "        \n",
    "        print(\"Base2\") \n",
    "  \n",
    "class Derived(Base1, Base2): \n",
    "    \n",
    "    def __init__(self): \n",
    "          \n",
    "        # Calling constructors of Base1 \n",
    "        # and Base2 classes \n",
    "        Base1.__init__(self) \n",
    "        Base2.__init__(self) \n",
    "        \n",
    "        print(\"Derived\") \n",
    "          \n",
    "    def printStrs(self): \n",
    "        \n",
    "        print(self.str1, self.str2) \n",
    "         \n",
    "  \n"
   ]
  },
  {
   "cell_type": "code",
   "execution_count": 7,
   "metadata": {},
   "outputs": [
    {
     "name": "stdout",
     "output_type": "stream",
     "text": [
      "Base1\n",
      "Base2\n",
      "Derived\n",
      "ICFOSS Information\n"
     ]
    }
   ],
   "source": [
    "ob = Derived() \n",
    "ob.printStrs() "
   ]
  },
  {
   "cell_type": "markdown",
   "metadata": {},
   "source": [
    "# Multilevel Inheritance"
   ]
  },
  {
   "cell_type": "code",
   "execution_count": 10,
   "metadata": {},
   "outputs": [],
   "source": [
    "    class Animal:  \n",
    "        \n",
    "        def speak(self):  \n",
    "            \n",
    "            print(\"Animal Speaking\")  \n",
    "            \n",
    "    class Dog(Animal):  \n",
    "        \n",
    "        def bark(self):  \n",
    "            \n",
    "            print(\"dog barking\")  \n",
    "            \n",
    "    class DogChild(Dog):  \n",
    "        \n",
    "        def eat(self):  \n",
    "            \n",
    "            print(\"Eating bread...\")  \n",
    "            \n",
    " "
   ]
  },
  {
   "cell_type": "code",
   "execution_count": 11,
   "metadata": {},
   "outputs": [
    {
     "name": "stdout",
     "output_type": "stream",
     "text": [
      "dog barking\n",
      "Animal Speaking\n",
      "Eating bread...\n"
     ]
    }
   ],
   "source": [
    "    d = DogChild()  \n",
    "    d.bark()  \n",
    "    d.speak()  \n",
    "    d.eat() "
   ]
  }
 ],
 "metadata": {
  "kernelspec": {
   "display_name": "Python 3",
   "language": "python",
   "name": "python3"
  },
  "language_info": {
   "codemirror_mode": {
    "name": "ipython",
    "version": 3
   },
   "file_extension": ".py",
   "mimetype": "text/x-python",
   "name": "python",
   "nbconvert_exporter": "python",
   "pygments_lexer": "ipython3",
   "version": "3.8.5"
  }
 },
 "nbformat": 4,
 "nbformat_minor": 2
}
